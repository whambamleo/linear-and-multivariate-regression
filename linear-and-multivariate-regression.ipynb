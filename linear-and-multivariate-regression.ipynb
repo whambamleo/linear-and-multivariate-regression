{
 "cells": [
  {
   "cell_type": "code",
   "execution_count": null,
   "metadata": {},
   "outputs": [],
   "source": [
    "import pandas as pd\n",
    "import matplotlib.pyplot as plt\n",
    "from scipy import stats\n",
    "from pandas_profiling import ProfileReport"
   ]
  },
  {
   "cell_type": "code",
   "execution_count": null,
   "metadata": {},
   "outputs": [],
   "source": [
    "initial_dataframe = pd.read_excel('concrete-data/Concrete_Data.xls')\n",
    "initial_dataframe"
   ]
  },
  {
   "cell_type": "code",
   "execution_count": null,
   "metadata": {},
   "outputs": [],
   "source": [
    "initial_dataframe.describe(include='all')\n",
    "initial_dataframe.columns.values"
   ]
  },
  {
   "cell_type": "code",
   "execution_count": null,
   "metadata": {},
   "outputs": [],
   "source": [
    "# full profile of initial_dataframe for reference\n",
    "init_profile = ProfileReport(initial_dataframe, title=\"Concrete Compressive Strength Report\")"
   ]
  },
  {
   "cell_type": "code",
   "execution_count": null,
   "metadata": {},
   "outputs": [],
   "source": [
    "# Normalizing data\n",
    "\n",
    "normalized_dataframe = pd.DataFrame()\n",
    "\n",
    "normalized_dataframe['Cement (component 1)(kg in a m^3 mixture)'] = stats.zscore(initial_dataframe['Cement (component 1)(kg in a m^3 mixture)'])\n",
    "normalized_dataframe['Blast Furnace Slag (component 2)(kg in a m^3 mixture)'] = stats.zscore(initial_dataframe['Blast Furnace Slag (component 2)(kg in a m^3 mixture)'])\n",
    "normalized_dataframe['Fly Ash (component 3)(kg in a m^3 mixture)'] = stats.zscore(initial_dataframe['Fly Ash (component 3)(kg in a m^3 mixture)'])\n",
    "normalized_dataframe['Water  (component 4)(kg in a m^3 mixture)'] = stats.zscore(initial_dataframe['Water  (component 4)(kg in a m^3 mixture)'])\n",
    "normalized_dataframe['Superplasticizer (component 5)(kg in a m^3 mixture)'] = stats.zscore(initial_dataframe['Superplasticizer (component 5)(kg in a m^3 mixture)'])\n",
    "normalized_dataframe['Coarse Aggregate  (component 6)(kg in a m^3 mixture)'] = stats.zscore(initial_dataframe['Coarse Aggregate  (component 6)(kg in a m^3 mixture)'])\n",
    "normalized_dataframe['Fine Aggregate (component 7)(kg in a m^3 mixture)'] = stats.zscore(initial_dataframe['Fine Aggregate (component 7)(kg in a m^3 mixture)'])\n",
    "normalized_dataframe['Age (day)'] = stats.zscore(initial_dataframe['Age (day)'])\n",
    "normalized_dataframe['Concrete compressive strength(MPa, megapascals) '] = stats.zscore(initial_dataframe['Concrete compressive strength(MPa, megapascals) '])\n",
    "\n",
    "normalized_dataframe"
   ]
  },
  {
   "cell_type": "code",
   "execution_count": null,
   "metadata": {},
   "outputs": [],
   "source": [
    "# full profile of normalized_dataframe for reference\n",
    "norm_profile = ProfileReport(normalized_dataframe, title=\"Concrete Compressive Strength Report\")"
   ]
  },
  {
   "cell_type": "code",
   "execution_count": null,
   "metadata": {},
   "outputs": [],
   "source": [
    "# Plotting initial vs normalized data to illustrate effect of pre-processing\n",
    "fig, axes = plt.subplots(nrows=1, ncols=2, figsize=(6, 6))\n",
    "\n",
    "initial_dataframe.boxplot(column =['Cement (component 1)(kg in a m^3 mixture)',\n",
    "       'Blast Furnace Slag (component 2)(kg in a m^3 mixture)',\n",
    "       'Fly Ash (component 3)(kg in a m^3 mixture)',\n",
    "       'Water  (component 4)(kg in a m^3 mixture)',\n",
    "       'Superplasticizer (component 5)(kg in a m^3 mixture)',\n",
    "       'Coarse Aggregate  (component 6)(kg in a m^3 mixture)',\n",
    "       'Fine Aggregate (component 7)(kg in a m^3 mixture)', 'Age (day)',\n",
    "       'Concrete compressive strength(MPa, megapascals) '], grid = False, ax=axes[0], rot=90)\n",
    "       \n",
    "normalized_dataframe.boxplot(column =['Cement (component 1)(kg in a m^3 mixture)',\n",
    "       'Blast Furnace Slag (component 2)(kg in a m^3 mixture)',\n",
    "       'Fly Ash (component 3)(kg in a m^3 mixture)',\n",
    "       'Water  (component 4)(kg in a m^3 mixture)',\n",
    "       'Superplasticizer (component 5)(kg in a m^3 mixture)',\n",
    "       'Coarse Aggregate  (component 6)(kg in a m^3 mixture)',\n",
    "       'Fine Aggregate (component 7)(kg in a m^3 mixture)', 'Age (day)',\n",
    "       'Concrete compressive strength(MPa, megapascals) '], grid = False, ax=axes[1], rot=90)\n"
   ]
  },
  {
   "cell_type": "code",
   "execution_count": null,
   "metadata": {},
   "outputs": [],
   "source": [
    "# Linear Regression"
   ]
  },
  {
   "cell_type": "code",
   "execution_count": null,
   "metadata": {},
   "outputs": [],
   "source": [
    "# Multivariate Regression"
   ]
  }
 ],
 "metadata": {
  "kernelspec": {
   "display_name": "cse217a",
   "language": "python",
   "name": "python3"
  },
  "language_info": {
   "codemirror_mode": {
    "name": "ipython",
    "version": 3
   },
   "file_extension": ".py",
   "mimetype": "text/x-python",
   "name": "python",
   "nbconvert_exporter": "python",
   "pygments_lexer": "ipython3",
   "version": "3.7.11"
  },
  "orig_nbformat": 4,
  "vscode": {
   "interpreter": {
    "hash": "4c3079f0a58127bc45b9f5626f3f668943b0efcdca8b957462921fe4300add81"
   }
  }
 },
 "nbformat": 4,
 "nbformat_minor": 2
}
